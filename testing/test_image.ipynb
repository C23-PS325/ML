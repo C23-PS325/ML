{
 "cells": [
  {
   "cell_type": "code",
   "execution_count": 3,
   "metadata": {},
   "outputs": [],
   "source": [
    "import tensorflow as tf\n",
    "from tensorflow.keras.preprocessing.image import ImageDataGenerator\n",
    "from tensorflow.keras.utils import load_img\n",
    "from sklearn.preprocessing import LabelEncoder\n",
    "from sklearn.decomposition import PCA\n",
    "import matplotlib.pyplot as plt\n",
    "import cv2\n",
    "import scipy\n",
    "import tqdm\n",
    "import numpy as np\n",
    "import os\n",
    "import pandas as pd\n",
    "import random"
   ]
  },
  {
   "cell_type": "code",
   "execution_count": 4,
   "metadata": {},
   "outputs": [],
   "source": [
    "from keras.models import load_model\n",
    "model = load_model('model.h5')"
   ]
  },
  {
   "cell_type": "code",
   "execution_count": 1,
   "metadata": {},
   "outputs": [
    {
     "ename": "NameError",
     "evalue": "name 'pd' is not defined",
     "output_type": "error",
     "traceback": [
      "\u001b[1;31m---------------------------------------------------------------------------\u001b[0m",
      "\u001b[1;31mNameError\u001b[0m                                 Traceback (most recent call last)",
      "Cell \u001b[1;32mIn[1], line 21\u001b[0m\n\u001b[0;32m     18\u001b[0m     \u001b[39mreturn\u001b[39;00m features\n\u001b[0;32m     20\u001b[0m test_path \u001b[39m=\u001b[39m \u001b[39m'\u001b[39m\u001b[39mdataset/valid\u001b[39m\u001b[39m'\u001b[39m\n\u001b[1;32m---> 21\u001b[0m test \u001b[39m=\u001b[39m pd\u001b[39m.\u001b[39mDataFrame()\n\u001b[0;32m     22\u001b[0m test[\u001b[39m'\u001b[39m\u001b[39mimage_path\u001b[39m\u001b[39m'\u001b[39m], test[\u001b[39m'\u001b[39m\u001b[39mlabel\u001b[39m\u001b[39m'\u001b[39m] \u001b[39m=\u001b[39m load_dataset(test_path)\n",
      "\u001b[1;31mNameError\u001b[0m: name 'pd' is not defined"
     ]
    }
   ],
   "source": [
    "def load_dataset(path):\n",
    "    image_paths = []\n",
    "    labels = []\n",
    "    for label in os.listdir(path):\n",
    "        for image in os.listdir(path + \"/\" + label):\n",
    "            image_paths.append(path + \"/\" + label + \"/\" + image)\n",
    "            labels.append(label)\n",
    "    return image_paths, labels\n",
    "\n",
    "def extract_features(images):\n",
    "    features = []\n",
    "    for img in tqdm.tqdm(images):\n",
    "        img = load_img(img, color_mode='grayscale')\n",
    "        img = np.array(img)\n",
    "        features.append(img)\n",
    "    features = np.array(features)\n",
    "    features = features.reshape(features.shape[0], 48, 48, 1)\n",
    "    return features\n",
    "\n",
    "test_path = 'dataset/valid'\n",
    "test = pd.DataFrame()\n",
    "test['image_path'], test['label'] = load_dataset(test_path)"
   ]
  },
  {
   "cell_type": "code",
   "execution_count": 9,
   "metadata": {},
   "outputs": [
    {
     "name": "stderr",
     "output_type": "stream",
     "text": [
      "100%|██████████| 2000/2000 [00:10<00:00, 197.74it/s]"
     ]
    },
    {
     "name": "stdout",
     "output_type": "stream",
     "text": [
      "(2000, 48, 48)\n"
     ]
    },
    {
     "name": "stderr",
     "output_type": "stream",
     "text": [
      "\n"
     ]
    }
   ],
   "source": [
    "test_features = extract_features(test['image_path'])"
   ]
  },
  {
   "cell_type": "code",
   "execution_count": 9,
   "metadata": {},
   "outputs": [],
   "source": [
    "x_test = test_features/255"
   ]
  },
  {
   "cell_type": "code",
   "execution_count": 14,
   "metadata": {},
   "outputs": [
    {
     "data": {
      "text/plain": [
       "((2000, 5), (2000, 5))"
      ]
     },
     "execution_count": 14,
     "metadata": {},
     "output_type": "execute_result"
    }
   ],
   "source": [
    "\n",
    "from sklearn.preprocessing import LabelEncoder\n",
    "le = LabelEncoder()\n",
    "y_train = le.fit_transform(test['label'])\n",
    "y_test = le.transform(test['label'])\n",
    "\n",
    "y_train = tf.keras.utils.to_categorical(y_train, num_classes=5)\n",
    "y_test = tf.keras.utils.to_categorical(y_test, num_classes=5)\n",
    "y_train.shape, y_test.shape"
   ]
  },
  {
   "cell_type": "code",
   "execution_count": 21,
   "metadata": {},
   "outputs": [
    {
     "name": "stdout",
     "output_type": "stream",
     "text": [
      "Original Output: fear\n",
      "1/1 [==============================] - 0s 50ms/step\n",
      "Predicted Output: fear\n",
      "test_image/test/fear/415284444.png\n",
      "[[4.2354228e-11 9.9999964e-01 2.6160774e-10 1.0329996e-07 2.7951992e-07]]\n"
     ]
    },
    {
     "data": {
      "image/png": "[encoded data removed]",
      "text/plain": [
       "<Figure size 640x480 with 1 Axes>"
      ]
     },
     "metadata": {},
     "output_type": "display_data"
    }
   ],
   "source": [
    "import random\n",
    "image_index = random.randint(0, len(test))\n",
    "print(\"Original Output:\", test['label'][image_index])\n",
    "pred = model.predict(x_test[image_index].reshape(1, 48, 48, 1))\n",
    "prediction_label = le.inverse_transform([pred.argmax()])[0]\n",
    "print(\"Predicted Output:\", prediction_label)\n",
    "plt.imshow(x_test[image_index].reshape(48, 48), cmap='gray');\n",
    "print(test[\"image_path\"][image_index])\n",
    "print(pred)"
   ]
  },
  {
   "cell_type": "code",
   "execution_count": 8,
   "metadata": {},
   "outputs": [],
   "source": [
    "import io, base64\n",
    "from PIL import Image\n",
    "def preprocess_input_predict(base64_image):\n",
    "    decoded_img = base64.b64decode((base64_image))\n",
    "    img_rgb = Image.open(io.BytesIO(decoded_img))\n",
    "    img_gray = img_rgb.convert('L')\n",
    "    np_img = [np.array(img_gray)]\n",
    "    np_img = np.array(np_img)\n",
    "    np_img = np_img.reshape(np_img.shape[0],48, 48, 1)\n",
    "    np_img = np_img / 255.0\n",
    "    print(np_img.shape)\n",
    "    return np_img"
   ]
  },
  {
   "cell_type": "code",
   "execution_count": 9,
   "metadata": {},
   "outputs": [
    {
     "name": "stdout",
     "output_type": "stream",
     "text": [
      "(1, 48, 48, 1)\n",
      "1/1 [==============================] - 0s 29ms/step\n"
     ]
    },
    {
     "data": {
      "text/plain": [
       "array([[4.2354228e-11, 9.9999964e-01, 2.6160774e-10, 1.0329996e-07,\n",
       "        2.7951992e-07]], dtype=float32)"
      ]
     },
     "execution_count": 9,
     "metadata": {},
     "output_type": "execute_result"
    }
   ],
   "source": [
    "base64_image = \"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\"\n",
    "preprocessed_img = preprocess_input_predict(base64_image)\n",
    "model.predict(preprocessed_img)"
   ]
  }
 ],
 "metadata": {
  "kernelspec": {
   "display_name": "Python 3",
   "language": "python",
   "name": "python3"
  },
  "language_info": {
   "codemirror_mode": {
    "name": "ipython",
    "version": 3
   },
   "file_extension": ".py",
   "mimetype": "text/x-python",
   "name": "python",
   "nbconvert_exporter": "python",
   "pygments_lexer": "ipython3",
   "version": "3.11.2"
  },
  "orig_nbformat": 4
 },
 "nbformat": 4,
 "nbformat_minor": 2
}
